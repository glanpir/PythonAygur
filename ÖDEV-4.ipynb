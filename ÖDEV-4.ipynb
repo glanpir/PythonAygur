{
 "cells": [
  {
   "cell_type": "code",
   "execution_count": 1,
   "metadata": {},
   "outputs": [
    {
     "name": "stdout",
     "output_type": "stream",
     "text": [
      "adınız?a\n",
      "Soyadınız?b\n",
      "Numaranız?234\n",
      "a\n",
      "b\n",
      "234\n"
     ]
    }
   ],
   "source": [
    "a = input(\"adınız?\")\n",
    "b = input(\"Soyadınız?\")\n",
    "c = int(input(\"Numaranız?\"))\n",
    "print(a,b,c,sep=\"\\n\")"
   ]
  },
  {
   "cell_type": "code",
   "execution_count": null,
   "metadata": {},
   "outputs": [],
   "source": []
  }
 ],
 "metadata": {
  "kernelspec": {
   "display_name": "Python 3",
   "language": "python",
   "name": "python3"
  },
  "language_info": {
   "codemirror_mode": {
    "name": "ipython",
    "version": 3
   },
   "file_extension": ".py",
   "mimetype": "text/x-python",
   "name": "python",
   "nbconvert_exporter": "python",
   "pygments_lexer": "ipython3",
   "version": "3.7.3"
  }
 },
 "nbformat": 4,
 "nbformat_minor": 2
}
