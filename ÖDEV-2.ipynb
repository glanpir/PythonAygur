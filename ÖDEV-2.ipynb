{
 "cells": [
  {
   "cell_type": "code",
   "execution_count": 1,
   "metadata": {},
   "outputs": [
    {
     "ename": "SyntaxError",
     "evalue": "invalid syntax (<ipython-input-1-9b97df409743>, line 4)",
     "output_type": "error",
     "traceback": [
      "\u001b[1;36m  File \u001b[1;32m\"<ipython-input-1-9b97df409743>\"\u001b[1;36m, line \u001b[1;32m4\u001b[0m\n\u001b[1;33m    Bke= (kilo)/(boy**)\u001b[0m\n\u001b[1;37m                      ^\u001b[0m\n\u001b[1;31mSyntaxError\u001b[0m\u001b[1;31m:\u001b[0m invalid syntax\n"
     ]
    }
   ],
   "source": [
    "boy=input(\"Boyunuz:\")\n",
    "kilo=input(\"Kilonuz:\")\n",
    "\n",
    "Bke= (kilo)/(boy**)\n",
    "\n",
    "print(bke)"
   ]
  },
  {
   "cell_type": "code",
   "execution_count": 2,
   "metadata": {},
   "outputs": [
    {
     "name": "stdout",
     "output_type": "stream",
     "text": [
      "Boyunuz:186\n",
      "Kilonuz:35\n"
     ]
    }
   ],
   "source": [
    "boy=input(\"Boyunuz(cm):\")\n",
    "kilo=input(\"Kilonuz(kg):\")"
   ]
  },
  {
   "cell_type": "code",
   "execution_count": 3,
   "metadata": {},
   "outputs": [
    {
     "name": "stdout",
     "output_type": "stream",
     "text": [
      "Boyunuz(cm):as\n",
      "Kilonuz(kg):sa\n"
     ]
    }
   ],
   "source": [
    "boy=input(\"Boyunuz(cm):\")\n",
    "kilo=input(\"Kilonuz(kg):\")"
   ]
  },
  {
   "cell_type": "code",
   "execution_count": 5,
   "metadata": {},
   "outputs": [
    {
     "ename": "SyntaxError",
     "evalue": "invalid syntax (<ipython-input-5-7515ce23af7d>, line 4)",
     "output_type": "error",
     "traceback": [
      "\u001b[1;36m  File \u001b[1;32m\"<ipython-input-5-7515ce23af7d>\"\u001b[1;36m, line \u001b[1;32m4\u001b[0m\n\u001b[1;33m    Bke= ((kilo)/(boy**))\u001b[0m\n\u001b[1;37m                       ^\u001b[0m\n\u001b[1;31mSyntaxError\u001b[0m\u001b[1;31m:\u001b[0m invalid syntax\n"
     ]
    }
   ],
   "source": [
    "boy=int(input(\"Boyunuz(cm):\"))\n",
    "kilo=int(input(\"Kilonuz(kg):\"))\n",
    "\n",
    "Bke= ((kilo)/(boy*boy))\n",
    "\n",
    "\n"
   ]
  },
  {
   "cell_type": "code",
   "execution_count": 6,
   "metadata": {},
   "outputs": [
    {
     "name": "stdout",
     "output_type": "stream",
     "text": [
      "Boyunuz(cm):12\n",
      "Kilonuz(kg):12\n"
     ]
    }
   ],
   "source": [
    "boy=int(input(\"Boyunuz(cm):\"))\n",
    "kilo=int(input(\"Kilonuz(kg):\"))\n",
    "\n",
    "Bke= ((kilo)/(boy*boy))"
   ]
  },
  {
   "cell_type": "code",
   "execution_count": 7,
   "metadata": {},
   "outputs": [
    {
     "name": "stdout",
     "output_type": "stream",
     "text": [
      "Boyunuz(cm):12\n",
      "Kilonuz(kg):12\n"
     ]
    },
    {
     "ename": "TypeError",
     "evalue": "'str' object is not callable",
     "output_type": "error",
     "traceback": [
      "\u001b[1;31m---------------------------------------------------------------------------\u001b[0m",
      "\u001b[1;31mTypeError\u001b[0m                                 Traceback (most recent call last)",
      "\u001b[1;32m<ipython-input-7-a14979f17c59>\u001b[0m in \u001b[0;36m<module>\u001b[1;34m\u001b[0m\n\u001b[0;32m      4\u001b[0m \u001b[0mBke\u001b[0m\u001b[1;33m=\u001b[0m \u001b[1;33m(\u001b[0m\u001b[1;33m(\u001b[0m\u001b[0mkilo\u001b[0m\u001b[1;33m)\u001b[0m\u001b[1;33m/\u001b[0m\u001b[1;33m(\u001b[0m\u001b[0mboy\u001b[0m\u001b[1;33m*\u001b[0m\u001b[0mboy\u001b[0m\u001b[1;33m)\u001b[0m\u001b[1;33m)\u001b[0m\u001b[1;33m\u001b[0m\u001b[1;33m\u001b[0m\u001b[0m\n\u001b[0;32m      5\u001b[0m \u001b[1;33m\u001b[0m\u001b[0m\n\u001b[1;32m----> 6\u001b[1;33m \u001b[0mprint\u001b[0m\u001b[1;33m(\u001b[0m\u001b[1;34m\"Beden Kitle Endeksiniz:\"\u001b[0m\u001b[1;33m(\u001b[0m\u001b[0mBke\u001b[0m\u001b[1;33m)\u001b[0m\u001b[1;33m)\u001b[0m\u001b[1;33m\u001b[0m\u001b[1;33m\u001b[0m\u001b[0m\n\u001b[0m",
      "\u001b[1;31mTypeError\u001b[0m: 'str' object is not callable"
     ]
    }
   ],
   "source": [
    "boy=int(input(\"Boyunuz(cm):\"))\n",
    "kilo=int(input(\"Kilonuz(kg):\"))\n",
    "\n",
    "Bke= ((kilo)/(boy*boy))\n",
    "\n",
    "print(\"Beden Kitle Endeksiniz:\")"
   ]
  },
  {
   "cell_type": "code",
   "execution_count": 8,
   "metadata": {},
   "outputs": [
    {
     "name": "stdout",
     "output_type": "stream",
     "text": [
      "Boyunuz(cm):12\n",
      "Kilonuz(kg):12\n",
      "0.08333333333333333\n"
     ]
    }
   ],
   "source": [
    "boy=float(input(\"Boyunuz(m):\"))\n",
    "kilo=float(input(\"Kilonuz(kg):\"))\n",
    "\n",
    "Bke= ((kilo)/(boy*boy))\n",
    "\n",
    "print(Bke)"
   ]
  },
  {
   "cell_type": "code",
   "execution_count": 9,
   "metadata": {},
   "outputs": [
    {
     "name": "stdout",
     "output_type": "stream",
     "text": [
      "Boyunuz(m):1.87\n",
      "Kilonuz(kg):94\n",
      "Beden Kitle İndeksiniz: 26.88095170007721'dır.\n"
     ]
    }
   ],
   "source": [
    "boy=float(input(\"Boyunuz(m):\"))\n",
    "kilo=float(input(\"Kilonuz(kg):\"))\n",
    "\n",
    "Bke= ((kilo)/(boy*boy))\n",
    "\n",
    "print(\"Beden Kitle İndeksiniz: {}'dır.\".format(Bke))"
   ]
  },
  {
   "cell_type": "code",
   "execution_count": null,
   "metadata": {},
   "outputs": [],
   "source": []
  }
 ],
 "metadata": {
  "kernelspec": {
   "display_name": "Python 3",
   "language": "python",
   "name": "python3"
  },
  "language_info": {
   "codemirror_mode": {
    "name": "ipython",
    "version": 3
   },
   "file_extension": ".py",
   "mimetype": "text/x-python",
   "name": "python",
   "nbconvert_exporter": "python",
   "pygments_lexer": "ipython3",
   "version": "3.7.3"
  }
 },
 "nbformat": 4,
 "nbformat_minor": 2
}
