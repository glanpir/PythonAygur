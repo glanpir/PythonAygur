{
 "cells": [
  {
   "cell_type": "markdown",
   "metadata": {},
   "source": [
    "DENEME-1"
   ]
  },
  {
   "cell_type": "code",
   "execution_count": 1,
   "metadata": {},
   "outputs": [
    {
     "name": "stdout",
     "output_type": "stream",
     "text": [
      "Gurkan\n"
     ]
    }
   ],
   "source": [
    "print(\"Gurkan\")"
   ]
  },
  {
   "cell_type": "code",
   "execution_count": 2,
   "metadata": {},
   "outputs": [
    {
     "name": "stdout",
     "output_type": "stream",
     "text": [
      "Gurkan\n",
      "Gurkan\n",
      "Gurkan\n"
     ]
    }
   ],
   "source": [
    "print(\"Gurkan\")\n",
    "print(\"Gurkan\")\n",
    "print(\"Gurkan\")"
   ]
  }
 ],
 "metadata": {
  "kernelspec": {
   "display_name": "Python 3",
   "language": "python",
   "name": "python3"
  },
  "language_info": {
   "codemirror_mode": {
    "name": "ipython",
    "version": 3
   },
   "file_extension": ".py",
   "mimetype": "text/x-python",
   "name": "python",
   "nbconvert_exporter": "python",
   "pygments_lexer": "ipython3",
   "version": "3.7.3"
  }
 },
 "nbformat": 4,
 "nbformat_minor": 2
}
